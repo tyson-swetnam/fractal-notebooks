{
 "cells": [
  {
   "cell_type": "markdown",
   "id": "e6f395d2-35c2-47f0-b0cb-55a7a832c3b2",
   "metadata": {
    "jp-MarkdownHeadingCollapsed": true
   },
   "source": [
    "# Setup\n",
    "\n",
    "Install missing packages\n",
    "\n",
    "```{bash}\n",
    "\n",
    "mamba install -c conda-forge -y cudatoolkit  gcc_linux-64=9.5.0 ipywidgets jupyter_contrib_nbextensions nodejs numba numpy plotly pycuda pythreejs  py-opencv\n",
    "\n",
    "jupyter labextension install jupyter-threejs\n",
    "\n",
    "```\n",
    "\n"
   ]
  },
  {
   "cell_type": "markdown",
   "id": "06ec147e-f381-419a-8c8d-c7e6a71f2038",
   "metadata": {},
   "source": [
    "# Diffusion limited aggregates"
   ]
  },
  {
   "cell_type": "markdown",
   "id": "4df9780a-d5db-4f9c-b63a-29291014796a",
   "metadata": {},
   "source": [
    "In this notebook, we will generate different types of self-affine fractal patterns using Python. Specifically, we will create Diffusion Limited Aggregation (DLA) models that resemble a lichen, a saprophyte, and a bryophyte.\n",
    "\n",
    "Note: While GPU acceleration can significantly speed up computations, implementing DLA on a GPU is challenging due to the inherently serial and random nature of the algorithm. Therefore, we will use Numba's Just-In-Time (JIT) compilation to optimize our code for better performance."
   ]
  },
  {
   "cell_type": "markdown",
   "id": "1a0685d4-add2-4105-b90c-a41f44e42eef",
   "metadata": {},
   "source": [
    "## DLA resembling a lichen\n"
   ]
  },
  {
   "cell_type": "code",
   "execution_count": 2,
   "id": "c10183ba-63bd-475d-b9a1-bf1f9fdcb720",
   "metadata": {},
   "outputs": [
    {
     "name": "stdout",
     "output_type": "stream",
     "text": [
      "/Users/tswetnam/github/fractal-notebooks/.venv/bin/python\n"
     ]
    }
   ],
   "source": [
    "!which python"
   ]
  },
  {
   "cell_type": "code",
   "execution_count": 10,
   "id": "e9e0a4a9-8aa1-49f3-beaa-4fcf9160fb1d",
   "metadata": {},
   "outputs": [],
   "source": [
    "import numpy as np\n",
    "import matplotlib.pyplot as plt\n",
    "from numba import njit, prange\n"
   ]
  },
  {
   "cell_type": "code",
   "execution_count": 11,
   "id": "ac1e2a47-bb5d-4d76-afee-5b50dd532a37",
   "metadata": {},
   "outputs": [],
   "source": [
    "# Grid size\n",
    "grid_size = 1000\n",
    "\n",
    "# Number of particles\n",
    "num_particles = 200000\n",
    "\n",
    "# Maximum steps per particle\n",
    "max_steps = 1000000\n",
    "\n",
    "# Initialize the grid\n",
    "grid = np.zeros((grid_size, grid_size), dtype=np.float64)\n",
    "\n",
    "# Set the seed particle at the center\n",
    "center = grid_size // 2\n",
    "grid[center, center] = 1\n"
   ]
  },
  {
   "cell_type": "code",
   "execution_count": 12,
   "id": "72955736-b428-4975-9309-a4090cc444fc",
   "metadata": {},
   "outputs": [],
   "source": [
    "@njit(parallel=True)\n",
    "def dla_simulation(grid, num_particles, max_steps):\n",
    "    grid_size = grid.shape[0]\n",
    "    center = grid_size // 2\n",
    "\n",
    "    for n in prange(num_particles):\n",
    "        # Start the particle at a random position on the boundary\n",
    "        angle = 2 * np.pi * np.random.rand()\n",
    "        x = int(center + (grid_size // 2 - 1) * np.cos(angle))\n",
    "        y = int(center + (grid_size // 2 - 1) * np.sin(angle))\n",
    "\n",
    "        for _ in range(max_steps):\n",
    "            # Random movement\n",
    "            direction = np.random.randint(4)\n",
    "            if direction == 0 and x > 0:\n",
    "                x -= 1  # Left\n",
    "            elif direction == 1 and x < grid_size - 1:\n",
    "                x += 1  # Right\n",
    "            elif direction == 2 and y > 0:\n",
    "                y -= 1  # Up\n",
    "            elif direction == 3 and y < grid_size - 1:\n",
    "                y += 1  # Down\n",
    "\n",
    "            # Check if the particle is adjacent to the cluster\n",
    "            if (grid[(x - 1) % grid_size, y] == 1 or\n",
    "                grid[(x + 1) % grid_size, y] == 1 or\n",
    "                grid[x, (y - 1) % grid_size] == 1 or\n",
    "                grid[x, (y + 1) % grid_size] == 1):\n",
    "                grid[x, y] = 1\n",
    "                break\n",
    "            # If the particle moves out of bounds, reposition it\n",
    "            if x <= 0 or x >= grid_size - 1 or y <= 0 or y >= grid_size - 1:\n",
    "                break\n"
   ]
  },
  {
   "cell_type": "code",
   "execution_count": null,
   "id": "a3223e66-674e-457e-a6f6-e1ffc360f144",
   "metadata": {},
   "outputs": [],
   "source": [
    "# Run the DLA simulation\n",
    "dla_simulation(grid, num_particles, max_steps)\n"
   ]
  },
  {
   "cell_type": "code",
   "execution_count": null,
   "id": "8c8d7fb6-e597-4f69-b12a-e0488a3eda0f",
   "metadata": {},
   "outputs": [],
   "source": [
    "plt.figure(figsize=(16, 16))\n",
    "plt.imshow(grid, cmap='Reds')\n",
    "plt.axis('off')\n",
    "plt.title('DLA Simulation Resembling a Lichen')\n",
    "plt.show()\n"
   ]
  },
  {
   "cell_type": "code",
   "execution_count": null,
   "id": "7fdbecb1-9731-4adb-a249-fb3303cda722",
   "metadata": {},
   "outputs": [],
   "source": [
    "import numpy as np\n",
    "import matplotlib.pyplot as plt\n",
    "import ipywidgets as widgets\n",
    "from ipywidgets import interact\n",
    "from numba import njit\n",
    "\n",
    "# DLA Simulation Function\n",
    "@njit\n",
    "def dla_simulation(grid_size, num_particles, max_steps):\n",
    "    grid = np.zeros((grid_size, grid_size), dtype=np.float64)\n",
    "    center = grid_size // 2\n",
    "    grid[center, center] = 1\n",
    "\n",
    "    for _ in range(num_particles):\n",
    "        angle = 2 * np.pi * np.random.rand()\n",
    "        x = int(center + (grid_size // 2 - 1) * np.cos(angle))\n",
    "        y = int(center + (grid_size // 2 - 1) * np.sin(angle))\n",
    "\n",
    "        for _ in range(max_steps):\n",
    "            direction = np.random.randint(4)\n",
    "            if direction == 0 and x > 0:\n",
    "                x -= 1\n",
    "            elif direction == 1 and x < grid_size - 1:\n",
    "                x += 1\n",
    "            elif direction == 2 and y > 0:\n",
    "                y -= 1\n",
    "            elif direction == 3 and y < grid_size - 1:\n",
    "                y += 1\n",
    "\n",
    "            if (grid[(x - 1) % grid_size, y] == 1 or\n",
    "                grid[(x + 1) % grid_size, y] == 1 or\n",
    "                grid[x, (y - 1) % grid_size] == 1 or\n",
    "                grid[x, (y + 1) % grid_size] == 1):\n",
    "                grid[x, y] = 1\n",
    "                break\n",
    "\n",
    "    return grid\n",
    "\n",
    "# Plotting Function\n",
    "def plot_dla(grid_size, num_particles, max_steps):\n",
    "    grid = dla_simulation(grid_size, num_particles, max_steps)\n",
    "    plt.figure(figsize=(16, 16))\n",
    "    plt.imshow(grid, cmap='Reds')\n",
    "    plt.axis('off')\n",
    "    plt.title(f'DLA Simulation\\nGrid Size: {grid_size}, Particles: {num_particles}, Max Steps: {max_steps}')\n",
    "    plt.show()\n",
    "\n",
    "# Sliders for interactive inputs\n",
    "grid_size_slider = widgets.IntSlider(min=100, max=800, step=50, value=500, description='Grid Size')\n",
    "num_particles_slider = widgets.IntSlider(min=1000, max=100000, step=5000, value=50000, description='Particles')\n",
    "max_steps_slider = widgets.IntSlider(min=1000, max=2000000, step=1000, value=10000, description='Max Steps')\n",
    "\n",
    "# Interactive widget display\n",
    "interact(plot_dla, \n",
    "         grid_size=grid_size_slider, \n",
    "         num_particles=num_particles_slider, \n",
    "         max_steps=max_steps_slider)\n"
   ]
  },
  {
   "cell_type": "code",
   "execution_count": null,
   "id": "8a7f8348-4207-41d6-bddb-c352190f4dfc",
   "metadata": {},
   "outputs": [],
   "source": [
    "import numpy as np\n",
    "import plotly.graph_objects as go\n",
    "import ipywidgets as widgets\n",
    "from ipywidgets import interact\n",
    "from numba import njit\n",
    "\n",
    "# DLA Simulation Function\n",
    "@njit\n",
    "def dla_simulation(grid_size, num_particles, max_steps):\n",
    "    grid = np.zeros((grid_size, grid_size), dtype=np.float64)\n",
    "    center = grid_size // 2\n",
    "    grid[center, center] = 1\n",
    "\n",
    "    for _ in range(num_particles):\n",
    "        angle = 2 * np.pi * np.random.rand()\n",
    "        x = int(center + (grid_size // 2 - 1) * np.cos(angle))\n",
    "        y = int(center + (grid_size // 2 - 1) * np.sin(angle))\n",
    "\n",
    "        for _ in range(max_steps):\n",
    "            direction = np.random.randint(4)\n",
    "            if direction == 0 and x > 0:\n",
    "                x -= 1\n",
    "            elif direction == 1 and x < grid_size - 1:\n",
    "                x += 1\n",
    "            elif direction == 2 and y > 0:\n",
    "                y -= 1\n",
    "            elif direction == 3 and y < grid_size - 1:\n",
    "                y += 1\n",
    "\n",
    "            if (grid[(x - 1) % grid_size, y] == 1 or\n",
    "                grid[(x + 1) % grid_size, y] == 1 or\n",
    "                grid[x, (y - 1) % grid_size] == 1 or\n",
    "                grid[x, (y + 1) % grid_size] == 1):\n",
    "                grid[x, y] = 1\n",
    "                break\n",
    "\n",
    "    return grid\n",
    "\n",
    "# Plotting Function using Plotly\n",
    "def plot_dla(grid_size, num_particles, max_steps):\n",
    "    grid = dla_simulation(grid_size, num_particles, max_steps)\n",
    "    \n",
    "    fig = go.Figure(data=go.Heatmap(\n",
    "        z=grid, \n",
    "        colorscale='Greys',\n",
    "        showscale=False\n",
    "    ))\n",
    "\n",
    "    fig.update_layout(\n",
    "        title=f'DLA Simulation\\nGrid Size: {grid_size}, Particles: {num_particles}, Max Steps: {max_steps}',\n",
    "        width=800,\n",
    "        height=800,\n",
    "        xaxis=dict(showgrid=False, zeroline=False, visible=False),\n",
    "        yaxis=dict(showgrid=False, zeroline=False, visible=False),\n",
    "    )\n",
    "\n",
    "    fig.show()\n",
    "\n",
    "# Sliders for interactive inputs\n",
    "grid_size_slider = widgets.IntSlider(min=100, max=800, step=50, value=500, description='Grid Size')\n",
    "num_particles_slider = widgets.IntSlider(min=1000, max=1000000, step=5000, value=50000, description='Particles')\n",
    "max_steps_slider = widgets.IntSlider(min=1000, max=1000000, step=1000, value=10000, description='Max Steps')\n",
    "\n",
    "# Interactive widget display\n",
    "interact(plot_dla, \n",
    "         grid_size=grid_size_slider, \n",
    "         num_particles=num_particles_slider, \n",
    "         max_steps=max_steps_slider)\n"
   ]
  },
  {
   "cell_type": "markdown",
   "id": "21a57d62-8ae2-488a-a4fb-698975d95983",
   "metadata": {},
   "source": [
    "## DLA Model Resembling a Saprophyte"
   ]
  },
  {
   "cell_type": "code",
   "execution_count": null,
   "id": "0b070ac7-bc18-41ef-b0af-38784cc71f79",
   "metadata": {},
   "outputs": [],
   "source": [
    "@njit(parallel=True)\n",
    "def dla_simulation_saprophyte(grid, num_particles, max_steps):\n",
    "    grid_size = grid.shape[0]\n",
    "\n",
    "    for n in prange(num_particles):\n",
    "        # Start the particle at a random position at the bottom\n",
    "        x = np.random.randint(0, grid_size)\n",
    "        y = grid_size - 1\n",
    "\n",
    "        for _ in range(max_steps):\n",
    "            # Introduce upward bias\n",
    "            prob = np.random.rand()\n",
    "            if prob < 0.7 and y > 0:\n",
    "                y -= 1  # Up\n",
    "            elif prob < 0.85 and x > 0:\n",
    "                x -= 1  # Left\n",
    "            elif prob < 1.0 and x < grid_size - 1:\n",
    "                x += 1  # Right\n",
    "\n",
    "            # Check if the particle is adjacent to the cluster\n",
    "            if (grid[x, (y - 1) % grid_size] == 1 or\n",
    "                grid[(x - 1) % grid_size, y] == 1 or\n",
    "                grid[(x + 1) % grid_size, y] == 1):\n",
    "                grid[x, y] = 1\n",
    "                break\n",
    "            # Break if out of bounds\n",
    "            if y <= 0:\n",
    "                break\n"
   ]
  },
  {
   "cell_type": "code",
   "execution_count": null,
   "id": "20e5d955-389e-4c80-895d-0920e369ec61",
   "metadata": {},
   "outputs": [],
   "source": [
    "# Initialize the grid\n",
    "grid_saprophyte = np.zeros((grid_size, grid_size), dtype=np.uint8)\n",
    "\n",
    "# Set the seed particles at the bottom row\n",
    "grid_saprophyte[:, grid_size - 1] = 1\n",
    "\n",
    "# Run the DLA simulation with upward bias\n",
    "dla_simulation_saprophyte(grid_saprophyte, num_particles, max_steps)\n"
   ]
  },
  {
   "cell_type": "code",
   "execution_count": null,
   "id": "c8d89dda-c1db-4808-9fe0-7a8915f4f4a9",
   "metadata": {},
   "outputs": [],
   "source": [
    "plt.figure(figsize=(8, 8))\n",
    "plt.imshow(grid_saprophyte.T, cmap='Greens')\n",
    "plt.axis('off')\n",
    "plt.title('DLA Simulation Resembling a Saprophyte')\n",
    "plt.show()\n"
   ]
  },
  {
   "cell_type": "markdown",
   "id": "c605373d-c929-438f-a462-45ba2fb091d5",
   "metadata": {},
   "source": [
    " ## DLA Model Resembling a Bryophyte"
   ]
  },
  {
   "cell_type": "code",
   "execution_count": null,
   "id": "8efd4556-0cc5-4991-aa20-977b239b26b7",
   "metadata": {},
   "outputs": [],
   "source": [
    "@njit(parallel=True)\n",
    "def dla_simulation_bryophyte(grid, num_particles, max_steps):\n",
    "    grid_size = grid.shape[0]\n",
    "    center = grid_size // 2\n",
    "\n",
    "    for n in prange(num_particles):\n",
    "        # Start the particle near the bottom center\n",
    "        x = np.random.randint(center - 50, center + 50)\n",
    "        y = grid_size - 1\n",
    "\n",
    "        for _ in range(max_steps):\n",
    "            # Introduce upward and lateral bias\n",
    "            prob = np.random.rand()\n",
    "            if prob < 0.6 and y > 0:\n",
    "                y -= 1  # Up\n",
    "            elif prob < 0.8 and x > 0:\n",
    "                x -= 1  # Left\n",
    "            elif prob < 1.0 and x < grid_size - 1:\n",
    "                x += 1  # Right\n",
    "\n",
    "            # Check if the particle is adjacent to the cluster\n",
    "            if (grid[x, (y - 1) % grid_size] == 1 or\n",
    "                grid[(x - 1) % grid_size, y] == 1 or\n",
    "                grid[(x + 1) % grid_size, y] == 1):\n",
    "                # Introduce lower sticking probability to encourage branching\n",
    "                if np.random.rand() < 0.5:\n",
    "                    grid[x, y] = 1\n",
    "                    break\n",
    "            # Break if out of bounds\n",
    "            if y <= 0:\n",
    "                break\n"
   ]
  },
  {
   "cell_type": "code",
   "execution_count": null,
   "id": "807dc6b1-5cdf-4596-8f94-1b82f870b117",
   "metadata": {},
   "outputs": [],
   "source": [
    "# Initialize the grid\n",
    "grid_bryophyte = np.zeros((grid_size, grid_size), dtype=np.uint8)\n",
    "\n",
    "# Set the seed particles at the bottom center\n",
    "grid_bryophyte[center - 5:center + 5, grid_size - 1] = 1\n",
    "\n",
    "# Run the DLA simulation for bryophyte\n",
    "dla_simulation_bryophyte(grid_bryophyte, num_particles, max_steps)\n"
   ]
  },
  {
   "cell_type": "code",
   "execution_count": null,
   "id": "c120f835-56a6-4ebf-9adf-122582b13472",
   "metadata": {},
   "outputs": [],
   "source": [
    "plt.figure(figsize=(16, 16))\n",
    "plt.imshow(grid_bryophyte.T, cmap='Blues')\n",
    "plt.axis('off')\n",
    "plt.title('DLA Simulation Resembling a Bryophyte')\n",
    "plt.show()\n"
   ]
  },
  {
   "cell_type": "code",
   "execution_count": null,
   "id": "6086978b-a49a-43e5-a7be-f8ebb4b8663e",
   "metadata": {},
   "outputs": [],
   "source": []
  }
 ],
 "metadata": {
  "kernelspec": {
   "display_name": "Python 3 (ipykernel)",
   "language": "python",
   "name": "python3"
  },
  "language_info": {
   "codemirror_mode": {
    "name": "ipython",
    "version": 3
   },
   "file_extension": ".py",
   "mimetype": "text/x-python",
   "name": "python",
   "nbconvert_exporter": "python",
   "pygments_lexer": "ipython3",
   "version": "3.11.4"
  }
 },
 "nbformat": 4,
 "nbformat_minor": 5
}
