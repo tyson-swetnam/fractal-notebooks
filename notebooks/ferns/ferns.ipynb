{
 "cells": [
  {
   "cell_type": "markdown",
   "id": "e6f395d2-35c2-47f0-b0cb-55a7a832c3b2",
   "metadata": {},
   "source": [
    "# Setup\n",
    "\n",
    "Install missing packages\n",
    "\n",
    "```bash\n",
    "mamba install -c conda-forge plotly streamlit numba numpy matplotlib \n",
    "```"
   ]
  },
  {
   "cell_type": "markdown",
   "id": "dbd48e4f-dc06-4117-a08d-9a84e68d14b3",
   "metadata": {},
   "source": [
    "# Barnsley's Ferns"
   ]
  },
  {
   "cell_type": "code",
   "execution_count": 1,
   "id": "dc62fc77-a155-4026-97e5-ca908076a280",
   "metadata": {},
   "outputs": [],
   "source": [
    "from numba import jit"
   ]
  },
  {
   "cell_type": "code",
   "execution_count": 8,
   "id": "ca9668d0-d406-490f-987d-dd725b26e021",
   "metadata": {},
   "outputs": [],
   "source": [
    "def barnsley_fern(n_points, color):\n",
    "    # Initialize arrays to hold x and y values\n",
    "    x = np.zeros(n_points)\n",
    "    y = np.zeros(n_points)\n",
    "    \n",
    "    for i in range(1, n_points):\n",
    "        r = np.random.random()\n",
    "        if r < 0.01:\n",
    "            # Transformation 1\n",
    "            x[i] = 0\n",
    "            y[i] = 0.16 * y[i-1]\n",
    "        elif r < 0.86:\n",
    "            # Transformation 2\n",
    "            x[i] = 0.85 * x[i-1] + 0.04 * y[i-1]\n",
    "            y[i] = -0.04 * x[i-1] + 0.85 * y[i-1] + 1.6\n",
    "        elif r < 0.93:\n",
    "            # Transformation 3\n",
    "            x[i] = 0.20 * x[i-1] - 0.26 * y[i-1]\n",
    "            y[i] = 0.23 * x[i-1] + 0.22 * y[i-1] + 1.6\n",
    "        else:\n",
    "            # Transformation 4\n",
    "            x[i] = -0.15 * x[i-1] + 0.28 * y[i-1]\n",
    "            y[i] = 0.26 * x[i-1] + 0.24 * y[i-1] + 0.44\n",
    "    \n",
    "    # Plotting the points\n",
    "    plt.figure(figsize=(6, 10))\n",
    "    plt.scatter(x, y, s=0.2, color=color)\n",
    "    plt.axis('off')\n",
    "    plt.show()\n"
   ]
  },
  {
   "cell_type": "code",
   "execution_count": 9,
   "id": "9c009785-909d-4ca0-b341-64aec4ddcb9f",
   "metadata": {},
   "outputs": [
    {
     "data": {
      "application/vnd.jupyter.widget-view+json": {
       "model_id": "4a30f739419f4a71adbb8975a25a28aa",
       "version_major": 2,
       "version_minor": 0
      },
      "text/plain": [
       "interactive(children=(IntSlider(value=50000, description='Iterations', max=100000, min=1000, step=1000), Color…"
      ]
     },
     "metadata": {},
     "output_type": "display_data"
    },
    {
     "data": {
      "text/plain": [
       "<function __main__.barnsley_fern(n_points, color)>"
      ]
     },
     "execution_count": 9,
     "metadata": {},
     "output_type": "execute_result"
    }
   ],
   "source": [
    "interact(\n",
    "    barnsley_fern,\n",
    "    n_points=widgets.IntSlider(min=1000, max=100000, step=1000, value=50000, description='Iterations'),\n",
    "    color=widgets.ColorPicker(value='green', description='Color')\n",
    ")\n"
   ]
  },
  {
   "cell_type": "code",
   "execution_count": 2,
   "id": "4a2b1e2e-afba-4d45-aab0-3d92abd26cf3",
   "metadata": {},
   "outputs": [],
   "source": [
    "from numba import jit\n",
    "\n",
    "@jit(nopython=True)\n",
    "def generate_fern(n_points):\n",
    "    x = np.zeros(n_points)\n",
    "    y = np.zeros(n_points)\n",
    "    \n",
    "    for i in range(1, n_points):\n",
    "        r = np.random.random()\n",
    "        if r < 0.01:\n",
    "            x[i] = 0\n",
    "            y[i] = 0.16 * y[i-1]\n",
    "        elif r < 0.86:\n",
    "            x[i] = 0.85 * x[i-1] + 0.04 * y[i-1]\n",
    "            y[i] = -0.04 * x[i-1] + 0.85 * y[i-1] + 1.6\n",
    "        elif r < 0.93:\n",
    "            x[i] = 0.20 * x[i-1] - 0.26 * y[i-1]\n",
    "            y[i] = 0.23 * x[i-1] + 0.22 * y[i-1] + 1.6\n",
    "        else:\n",
    "            x[i] = -0.15 * x[i-1] + 0.28 * y[i-1]\n",
    "            y[i] = 0.26 * x[i-1] + 0.24 * y[i-1] + 0.44\n",
    "    return x, y\n"
   ]
  },
  {
   "cell_type": "code",
   "execution_count": 3,
   "id": "1319bbd6-eb3d-41da-879b-b7b35a2f99d0",
   "metadata": {},
   "outputs": [],
   "source": [
    "def barnsley_fern(n_points, color):\n",
    "    x, y = generate_fern(n_points)\n",
    "    plt.figure(figsize=(6, 10))\n",
    "    plt.scatter(x, y, s=0.2, color=color)\n",
    "    plt.axis('off')\n",
    "    plt.show()\n"
   ]
  },
  {
   "cell_type": "code",
   "execution_count": 4,
   "id": "87459f41-7646-4d48-9de9-d0b0107ff19d",
   "metadata": {},
   "outputs": [
    {
     "data": {
      "application/vnd.jupyter.widget-view+json": {
       "model_id": "8f8ff58bd3a24175af553952b845b3e8",
       "version_major": 2,
       "version_minor": 0
      },
      "text/plain": [
       "interactive(children=(IntSlider(value=50000, description='Iterations', max=100000, min=1000, step=1000), Color…"
      ]
     },
     "metadata": {},
     "output_type": "display_data"
    },
    {
     "data": {
      "text/plain": [
       "<function __main__.barnsley_fern(n_points, color)>"
      ]
     },
     "execution_count": 4,
     "metadata": {},
     "output_type": "execute_result"
    }
   ],
   "source": [
    "import numpy as np\n",
    "import matplotlib.pyplot as plt\n",
    "from ipywidgets import interact, widgets\n",
    "from numba import jit\n",
    "\n",
    "@jit(nopython=True)\n",
    "def generate_fern(n_points):\n",
    "    x = np.zeros(n_points)\n",
    "    y = np.zeros(n_points)\n",
    "    \n",
    "    for i in range(1, n_points):\n",
    "        r = np.random.random()\n",
    "        if r < 0.01:\n",
    "            # Transformation 1\n",
    "            x[i] = 0\n",
    "            y[i] = 0.16 * y[i-1]\n",
    "        elif r < 0.86:\n",
    "            # Transformation 2\n",
    "            x[i] = 0.85 * x[i-1] + 0.04 * y[i-1]\n",
    "            y[i] = -0.04 * x[i-1] + 0.85 * y[i-1] + 1.6\n",
    "        elif r < 0.93:\n",
    "            # Transformation 3\n",
    "            x[i] = 0.20 * x[i-1] - 0.26 * y[i-1]\n",
    "            y[i] = 0.23 * x[i-1] + 0.22 * y[i-1] + 1.6\n",
    "        else:\n",
    "            # Transformation 4\n",
    "            x[i] = -0.15 * x[i-1] + 0.28 * y[i-1]\n",
    "            y[i] = 0.26 * x[i-1] + 0.24 * y[i-1] + 0.44\n",
    "    return x, y\n",
    "\n",
    "def barnsley_fern(n_points, color):\n",
    "    x, y = generate_fern(n_points)\n",
    "    plt.figure(figsize=(6, 10))\n",
    "    plt.scatter(x, y, s=0.2, color=color)\n",
    "    plt.axis('off')\n",
    "    plt.show()\n",
    "\n",
    "interact(\n",
    "    barnsley_fern,\n",
    "    n_points=widgets.IntSlider(min=1000, max=100000, step=1000, value=50000, description='Iterations'),\n",
    "    color=widgets.ColorPicker(value='green', description='Color')\n",
    ")\n"
   ]
  },
  {
   "cell_type": "code",
   "execution_count": 5,
   "id": "be146dac-06ae-46a0-86b0-a1522c372a98",
   "metadata": {},
   "outputs": [],
   "source": [
    "def generate_fern(n_points, t1_params, t2_params, t3_params, t4_params, probs):\n",
    "    x = np.zeros(n_points)\n",
    "    y = np.zeros(n_points)\n",
    "    \n",
    "    # Normalize probabilities\n",
    "    prob_cum = np.cumsum(probs)\n",
    "    prob_cum /= prob_cum[-1]\n",
    "    \n",
    "    for i in range(1, n_points):\n",
    "        r = np.random.random()\n",
    "        if r < prob_cum[0]:\n",
    "            a, b, c, d, e, f = t1_params\n",
    "        elif r < prob_cum[1]:\n",
    "            a, b, c, d, e, f = t2_params\n",
    "        elif r < prob_cum[2]:\n",
    "            a, b, c, d, e, f = t3_params\n",
    "        else:\n",
    "            a, b, c, d, e, f = t4_params\n",
    "\n",
    "        x_i = x[i-1]\n",
    "        y_i = y[i-1]\n",
    "        x[i] = a * x_i + b * y_i + e\n",
    "        y[i] = c * x_i + d * y_i + f\n",
    "        \n",
    "    return x, y\n"
   ]
  },
  {
   "cell_type": "code",
   "execution_count": 6,
   "id": "f32cd9be-bde3-4554-ba02-8e3ff083c099",
   "metadata": {},
   "outputs": [],
   "source": [
    "def barnsley_fern(n_points, width, color, \n",
    "                  t1_a, t1_b, t1_c, t1_d, t1_e, t1_f,\n",
    "                  t2_a, t2_b, t2_c, t2_d, t2_e, t2_f,\n",
    "                  t3_a, t3_b, t3_c, t3_d, t3_e, t3_f,\n",
    "                  t4_a, t4_b, t4_c, t4_d, t4_e, t4_f,\n",
    "                  p1, p2, p3, p4):\n",
    "    # Transformation parameters\n",
    "    t1_params = [t1_a, t1_b, t1_c, t1_d, t1_e, t1_f]\n",
    "    t2_params = [t2_a, t2_b, t2_c, t2_d, t2_e, t2_f]\n",
    "    t3_params = [t3_a, t3_b, t3_c, t3_d, t3_e, t3_f]\n",
    "    t4_params = [t4_a, t4_b, t4_c, t4_d, t4_e, t4_f]\n",
    "    probs = [p1, p2, p3, p4]\n",
    "    \n",
    "    x, y = generate_fern(n_points, t1_params, t2_params, t3_params, t4_params, probs)\n",
    "    plt.figure(figsize=(6, 10))\n",
    "    plt.scatter(x, y, s=width, color=color, marker='o')\n",
    "    plt.axis('off')\n",
    "    plt.show()\n"
   ]
  },
  {
   "cell_type": "code",
   "execution_count": 7,
   "id": "1d945b79-e51f-41ba-a0da-fb63b6ac3cd1",
   "metadata": {},
   "outputs": [
    {
     "data": {
      "application/vnd.jupyter.widget-view+json": {
       "model_id": "a7e2a354048a47389a497c02d3cb34f8",
       "version_major": 2,
       "version_minor": 0
      },
      "text/plain": [
       "interactive(children=(IntSlider(value=50000, description='Iterations', max=200000, min=1000, step=1000), Float…"
      ]
     },
     "metadata": {},
     "output_type": "display_data"
    },
    {
     "data": {
      "text/plain": [
       "<function __main__.barnsley_fern(n_points, width, color, t1_a, t1_b, t1_c, t1_d, t1_e, t1_f, t2_a, t2_b, t2_c, t2_d, t2_e, t2_f, t3_a, t3_b, t3_c, t3_d, t3_e, t3_f, t4_a, t4_b, t4_c, t4_d, t4_e, t4_f, p1, p2, p3, p4)>"
      ]
     },
     "execution_count": 7,
     "metadata": {},
     "output_type": "execute_result"
    }
   ],
   "source": [
    "interact(\n",
    "    barnsley_fern,\n",
    "    n_points=widgets.IntSlider(min=1000, max=200000, step=1000, value=50000, description='Iterations'),\n",
    "    width=widgets.FloatSlider(min=0.1, max=2, step=0.1, value=0.2, description='Width'),\n",
    "    color=widgets.ColorPicker(value='green', description='Color'),\n",
    "    \n",
    "    # Transformation 1 parameters\n",
    "    t1_a=widgets.FloatText(value=0.0, description='T1 a'),\n",
    "    t1_b=widgets.FloatText(value=0.0, description='T1 b'),\n",
    "    t1_c=widgets.FloatText(value=0.0, description='T1 c'),\n",
    "    t1_d=widgets.FloatText(value=0.16, description='T1 d'),\n",
    "    t1_e=widgets.FloatText(value=0.0, description='T1 e'),\n",
    "    t1_f=widgets.FloatText(value=0.0, description='T1 f'),\n",
    "    \n",
    "    # Transformation 2 parameters\n",
    "    t2_a=widgets.FloatText(value=0.85, description='T2 a'),\n",
    "    t2_b=widgets.FloatText(value=0.04, description='T2 b'),\n",
    "    t2_c=widgets.FloatText(value=-0.04, description='T2 c'),\n",
    "    t2_d=widgets.FloatText(value=0.85, description='T2 d'),\n",
    "    t2_e=widgets.FloatText(value=0.0, description='T2 e'),\n",
    "    t2_f=widgets.FloatText(value=1.6, description='T2 f'),\n",
    "    \n",
    "    # Transformation 3 parameters\n",
    "    t3_a=widgets.FloatText(value=0.20, description='T3 a'),\n",
    "    t3_b=widgets.FloatText(value=-0.26, description='T3 b'),\n",
    "    t3_c=widgets.FloatText(value=0.23, description='T3 c'),\n",
    "    t3_d=widgets.FloatText(value=0.22, description='T3 d'),\n",
    "    t3_e=widgets.FloatText(value=0.0, description='T3 e'),\n",
    "    t3_f=widgets.FloatText(value=1.6, description='T3 f'),\n",
    "    \n",
    "    # Transformation 4 parameters\n",
    "    t4_a=widgets.FloatText(value=-0.15, description='T4 a'),\n",
    "    t4_b=widgets.FloatText(value=0.28, description='T4 b'),\n",
    "    t4_c=widgets.FloatText(value=0.26, description='T4 c'),\n",
    "    t4_d=widgets.FloatText(value=0.24, description='T4 d'),\n",
    "    t4_e=widgets.FloatText(value=0.0, description='T4 e'),\n",
    "    t4_f=widgets.FloatText(value=0.44, description='T4 f'),\n",
    "    \n",
    "    # Probabilities\n",
    "    p1=widgets.FloatSlider(min=0.0, max=1.0, step=0.01, value=0.01, description='P1'),\n",
    "    p2=widgets.FloatSlider(min=0.0, max=1.0, step=0.01, value=0.85, description='P2'),\n",
    "    p3=widgets.FloatSlider(min=0.0, max=1.0, step=0.01, value=0.07, description='P3'),\n",
    "    p4=widgets.FloatSlider(min=0.0, max=1.0, step=0.01, value=0.07, description='P4'),\n",
    ")\n"
   ]
  },
  {
   "cell_type": "markdown",
   "id": "e4431ee0-6113-4e00-b0e0-270709da48a6",
   "metadata": {},
   "source": [
    "## **Explanation of Parameters**\n",
    "\n",
    "### **Affine Transformation Parameters**\n",
    "\n",
    "Each transformation is defined by the parameters \\( a, b, c, d, e, f \\) in the affine transformation equations:\n",
    "\n",
    "\\[\n",
    "\\begin{cases}\n",
    "x_{\\text{new}} = a \\cdot x_{\\text{old}} + b \\cdot y_{\\text{old}} + e \\\\\n",
    "y_{\\text{new}} = c \\cdot x_{\\text{old}} + d \\cdot y_{\\text{old}} + f\n",
    "\\end{cases}\n",
    "\\]\n",
    "\n",
    "- **Angles and Lengths:** The parameters \\( a, b, c, d \\) control scaling (lengths) and rotation (angles) of each transformation.\n",
    "- **Translation:** The parameters \\( e, f \\) shift the fern along the x and y axes.\n",
    "- **Transformation Probabilities (Bifurcation Rate):** The probabilities \\( P1, P2, P3, P4 \\) determine how often each transformation is applied. Adjusting these changes the bifurcation patterns in the fern.\n",
    "\n",
    "### **Width**\n",
    "\n",
    "- **Point Size:** Controls the size of the points in the scatter plot, effectively changing the \"width\" of the branches.\n",
    "\n",
    "## **How to Use the Interactive Widgets**\n",
    "\n",
    "- **Adjust Transformation Parameters:** Use the text boxes to input different values for \\( a, b, c, d, e, f \\) for each transformation (T1 to T4). Small changes can significantly affect the fractal's shape.\n",
    "- **Modify Probabilities:** Use the sliders for \\( P1 \\) to \\( P4 \\) to change the likelihood of each transformation being applied. Ensure that the sum of probabilities is greater than zero (they will be normalized automatically).\n",
    "- **Change Width and Color:** Adjust the point size with the \"Width\" slider and select different colors using the color picker.\n",
    "- **Number of Iterations:** Increase or decrease the \"Iterations\" slider to control the number of points generated. More iterations result in a more detailed fern but may take longer to compute.\n",
    "\n",
    "## **Visualization Example**\n",
    "\n",
    "Experiment with different parameters to see how they affect the Barnsley Fern. Here are some suggestions:\n",
    "\n",
    "- **Classic Fern:** Use the default parameters provided.\n",
    "- **Wider Fern:** Increase the scaling factors \\( a \\) and \\( d \\) in T2, T3, and T4.\n",
    "- **Different Angles:** Modify \\( b \\) and \\( c \\) to introduce shearing and rotation.\n",
    "- **Alter Bifurcation Rate:** Change the probabilities to see how the fern's branching structure changes.\n"
   ]
  },
  {
   "cell_type": "markdown",
   "id": "2a6839d8",
   "metadata": {},
   "source": []
  },
  {
   "cell_type": "markdown",
   "id": "40022127",
   "metadata": {},
   "source": []
  }
 ],
 "metadata": {
  "kernelspec": {
   "display_name": "Python 3 (ipykernel)",
   "language": "python",
   "name": "python3"
  },
  "language_info": {
   "codemirror_mode": {
    "name": "ipython",
    "version": 3
   },
   "file_extension": ".py",
   "mimetype": "text/x-python",
   "name": "python",
   "nbconvert_exporter": "python",
   "pygments_lexer": "ipython3",
   "version": "3.11.4"
  }
 },
 "nbformat": 4,
 "nbformat_minor": 5
}
